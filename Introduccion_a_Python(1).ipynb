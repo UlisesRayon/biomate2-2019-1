{
 "cells": [
  {
   "cell_type": "markdown",
   "metadata": {},
   "source": [
    "# Una breve (brevísima) introducción a Python (2.X)"
   ]
  },
  {
   "cell_type": "markdown",
   "metadata": {},
   "source": [
    "En la ciencia de hoy día, independiente del área, es imprecindible programar: ya sea para hacer análisis estadísticos o correr simulaciones para comparar un modelo con los datos experimentales. \n",
    "\n",
    "En la biología teórica programar se ha vuelto indispensable: los modelos de ecuaciones no se resuelven analíticamente sino numerícamente; los análisis de grandes datos ya no los puedes hacer con excel, se necesita una herramienta más poderosa. No sólo es útil programar para hacer análisis de datos, hoy día hay muchos modelos que son exclusivamente computacionales o necesitan ser datos generados por una computadora. \n",
    "\n",
    "Lo que aprenderemos de manera breve es lo básico de python 2.X\n"
   ]
  },
  {
   "cell_type": "markdown",
   "metadata": {},
   "source": [
    "## De variables, arreglos y listas. "
   ]
  },
  {
   "cell_type": "markdown",
   "metadata": {},
   "source": [
    "Existen varios tipos de variables en python. Aunque no es del todo correcto, por simplicidad aquí entenderemos por \"variable\" a algo que nos permite guardar números, palabras o algún otro tipo de datos en una localidad de memoria. \n",
    "\n",
    "En python, a diferencia de otros lenguajes, podemos declarar cualquier variable en cualquier momento, no será necesario declararla desde un principio lo que sí debe ser es que debemos respetar los tipos de variables que utilizamos, no podemos mezclarlos. "
   ]
  },
  {
   "cell_type": "code",
   "execution_count": null,
   "metadata": {},
   "outputs": [],
   "source": [
    "#En python los comentarios (parte del código que no se ejecutará) se escriben poniendo primero un numeral \"#\"\n",
    "#Realiza aquí abajo un comentario"
   ]
  },
  {
   "cell_type": "code",
   "execution_count": null,
   "metadata": {},
   "outputs": [],
   "source": [
    "#De las variables que existen los más comunes son enteros y flotantes\n",
    "\n",
    "a = -309 #Este es un entero\n",
    "b = 3.03 #Este es un flotante"
   ]
  },
  {
   "cell_type": "code",
   "execution_count": null,
   "metadata": {},
   "outputs": [],
   "source": [
    "#En python sí podemos mezclar (algunas veces) los enteros y los flotantes, el resultado es un flotante.\n",
    "c = a/b\n",
    "e = b/a\n",
    "#Cuando tenemos sentencias así no podemos ver qué estamos calculado, para eso necesitamos la función \"print()\"\n",
    "print \"c = %f\"%(c)\n",
    "#Imprime aquí abajo e\n"
   ]
  },
  {
   "cell_type": "code",
   "execution_count": null,
   "metadata": {},
   "outputs": [],
   "source": [
    "#También podemos escribir números en \"notación cientifíca\"\n",
    "c = 0.3e-9\n",
    "print \"c = %Lg\"%(c) #¿Notas la diferencia con los otros print?"
   ]
  },
  {
   "cell_type": "code",
   "execution_count": null,
   "metadata": {},
   "outputs": [],
   "source": [
    "#Y aún más sorprendete, podemos escribir números complejos:\n",
    "real = 22.3 + 0.5j"
   ]
  },
  {
   "cell_type": "code",
   "execution_count": null,
   "metadata": {},
   "outputs": [],
   "source": [
    "#También las palabras (strings) pueden ser argumentos de variables:\n",
    "palabra1 = \"nel\"\n",
    "palabra2 = \"pastel\"\n",
    "\n",
    "print \"%s %s\"%(palabra1,palabra2)"
   ]
  },
  {
   "cell_type": "code",
   "execution_count": null,
   "metadata": {},
   "outputs": [],
   "source": [
    "#Por último, una de las variables más útiles son las listas. La forma más sencilla de pensar en estas es como un vector.\n",
    "#Sus elementos no deben de ser todos números, podemos mezclarlos e incluso dejarlo vacío. \n",
    "\n",
    "lista1 = [] #una lista vacía \n",
    "lista2 = ['un pajaro', 3, 4,5,30.1,'10','']\n",
    "\n",
    "print lista1\n",
    "print lista2"
   ]
  },
  {
   "cell_type": "code",
   "execution_count": null,
   "metadata": {},
   "outputs": [],
   "source": [
    "#¿Podemos agregar elementos a la lista? Sí, la instrucción es nombre_de_lista.append(\"algo\")\n",
    "\n",
    "lista1.append(\"algo\")\n",
    "lista2.append(\"esto lo voy a eliminar\")\n",
    "\n",
    "#¿Cómo quedaron entonces las listas?\n",
    "print lista1\n",
    "print lista2"
   ]
  },
  {
   "cell_type": "code",
   "execution_count": null,
   "metadata": {},
   "outputs": [],
   "source": [
    "#Sí, también podemos eliminar elementos de la lista. nombre_lista.pop() elimina el últmo elemento, nombre_lista.pop(n)\n",
    "#elimina el n-ésimo elemento. NOTA: Los elemtos de una lista empiezan desde el indice 0.\n",
    "\n",
    "lista1.pop()\n",
    "print lista1 #Quedo vacía de nuevo"
   ]
  },
  {
   "cell_type": "code",
   "execution_count": null,
   "metadata": {},
   "outputs": [],
   "source": [
    "lista2.pop()\n",
    "print lista2\n",
    "\n",
    "lista2.pop(0)\n",
    "print lista2"
   ]
  },
  {
   "cell_type": "markdown",
   "metadata": {},
   "source": [
    "## Operaciones imposibles"
   ]
  },
  {
   "cell_type": "markdown",
   "metadata": {
    "slideshow": {
     "slide_type": ""
    }
   },
   "source": [
    "Python no sólo nos deja hacer y deshacer a nuestro antojo, también nos da una variedad impresionante de operaciones aritmeticas entre variables, incluso entre listas. \n",
    "\n",
    "La suma y la resta son muy claras, la división se representa con \"/\" la multiplicación por \"$*$\" y la podentecia por \"$**$\". Veamos ejemplos.\n"
   ]
  },
  {
   "cell_type": "code",
   "execution_count": null,
   "metadata": {},
   "outputs": [],
   "source": [
    "a = 2;\n",
    "a = a**2\n",
    "print \"a^2 = %i\"%(a)"
   ]
  },
  {
   "cell_type": "code",
   "execution_count": null,
   "metadata": {},
   "outputs": [],
   "source": [
    "a = a * 10\n",
    "print \"a^2 * 10 = %i\"%(a)"
   ]
  },
  {
   "cell_type": "code",
   "execution_count": null,
   "metadata": {},
   "outputs": [],
   "source": [
    "#Tenemos una operación más:\n",
    "lista = [1 ,2 ,3 ,4];\n",
    "r = 0.5;\n",
    "lista = [r*x for x in lista]\n",
    "\n",
    "print lista #¿Qué pasó aquí?"
   ]
  },
  {
   "cell_type": "code",
   "execution_count": null,
   "metadata": {},
   "outputs": [],
   "source": [
    "#Por último, también entre palabras podemos operar\n",
    "p1 = \"nel\"\n",
    "p2 = \"pastel\"\n",
    "p3 = p1+p2\n",
    "print p3\n",
    "print p3*3"
   ]
  },
  {
   "cell_type": "markdown",
   "metadata": {},
   "source": [
    "## Ciclones y condiciones."
   ]
  },
  {
   "cell_type": "markdown",
   "metadata": {},
   "source": [
    "Por último, los elementos más importantes de la programación son los ciclos y los condicionales. Los ciclos son *for* y *while* mientras que los condicionales son *if* y *elif*.\n",
    "\n",
    "La estructura de estos es similar: **instrucción condición:**"
   ]
  },
  {
   "cell_type": "code",
   "execution_count": null,
   "metadata": {},
   "outputs": [],
   "source": [
    "for i in range(5):\n",
    "    print (i)"
   ]
  },
  {
   "cell_type": "code",
   "execution_count": null,
   "metadata": {},
   "outputs": [],
   "source": [
    "sentence = \"carta\"\n",
    "for i in sentence:\n",
    "    print (i)"
   ]
  },
  {
   "cell_type": "code",
   "execution_count": null,
   "metadata": {},
   "outputs": [],
   "source": [
    "lista = [\"nel\",\"pastel\",3,4,5,10.0002]\n",
    "for i in lista:\n",
    "    print (i)"
   ]
  },
  {
   "cell_type": "markdown",
   "metadata": {},
   "source": [
    "Como puedes observar el *for* puede *correr* sobre casi cualquier tipo de elemento, no sólo sirve para poder imprimir sobre lo que está corriendo, veamos un ejemplo más complicado:"
   ]
  },
  {
   "cell_type": "code",
   "execution_count": null,
   "metadata": {},
   "outputs": [],
   "source": [
    "a=2;\n",
    "for i in range(3):\n",
    "    a += 2\n",
    "print a #¿Qué pasó aquí?"
   ]
  },
  {
   "cell_type": "code",
   "execution_count": null,
   "metadata": {},
   "outputs": [],
   "source": [
    "a = 2\n",
    "while a<=6:\n",
    "    a += 2\n",
    "print a #¿Qué pasó aquí?"
   ]
  },
  {
   "cell_type": "markdown",
   "metadata": {},
   "source": [
    "Ahora, vamos a ver los condicionales:"
   ]
  },
  {
   "cell_type": "code",
   "execution_count": null,
   "metadata": {},
   "outputs": [],
   "source": [
    "a = 0.2;\n",
    "if a>1:\n",
    "    print \"nel\"\n",
    "elif a == 0:\n",
    "    print \"pastel\"\n",
    "else:\n",
    "    print \"simon\" #Mueve el valor de \"a\" para que se imprima \"nel\"."
   ]
  },
  {
   "cell_type": "markdown",
   "metadata": {},
   "source": [
    "#### Este es un pequeñisimo tutorial, se subirán más tutoriales y ejercicios. Por favor revisa de manera continua mi repositorio de [github](https://github.com/UlisesRayon/biomate2-2019-1/), el google classroom y el [blog](https://sites.google.com/ciencias.unam.mx/biomateii/material-de-apoyo)."
   ]
  }
 ],
 "metadata": {
  "kernelspec": {
   "display_name": "Python 2",
   "language": "python",
   "name": "python2"
  },
  "language_info": {
   "codemirror_mode": {
    "name": "ipython",
    "version": 2
   },
   "file_extension": ".py",
   "mimetype": "text/x-python",
   "name": "python",
   "nbconvert_exporter": "python",
   "pygments_lexer": "ipython2",
   "version": "2.7.13"
  },
  "latex_envs": {
   "LaTeX_envs_menu_present": true,
   "autoclose": false,
   "autocomplete": true,
   "bibliofile": "biblio.bib",
   "cite_by": "apalike",
   "current_citInitial": 1,
   "eqLabelWithNumbers": true,
   "eqNumInitial": 1,
   "hotkeys": {
    "equation": "Ctrl-E",
    "itemize": "Ctrl-I"
   },
   "labels_anchors": false,
   "latex_user_defs": false,
   "report_style_numbering": false,
   "user_envs_cfg": false
  }
 },
 "nbformat": 4,
 "nbformat_minor": 2
}
